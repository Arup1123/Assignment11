{
 "cells": [
  {
   "cell_type": "markdown",
   "id": "b8f5520e-522b-4ec5-b46f-247428048157",
   "metadata": {},
   "source": [
    "Assignment 11"
   ]
  },
  {
   "cell_type": "markdown",
   "id": "bda78356-849b-4e35-9542-b1a5594a55a4",
   "metadata": {},
   "source": [
    "Q1. What is multiprocessing in python? Why is it useful?"
   ]
  },
  {
   "cell_type": "markdown",
   "id": "24750a95-418a-4c47-82a1-d1b58b8ed646",
   "metadata": {},
   "source": [
    "Ans: In python, multiprocessing is a module which includes a very simple and intuitive API for dividing work between          multiple processes.\n",
    "     It allows the system to run multiple processes simultaneously. It will enable the breaking of applications into\n",
    "     smaller threads that can run independently. That's why it is useful.\n",
    "     "
   ]
  },
  {
   "cell_type": "markdown",
   "id": "81923bdb-7b0c-4fab-b43e-f5d6bc0de47d",
   "metadata": {},
   "source": [
    "Q2. What are the difference between multiprocessing and multithreading?"
   ]
  },
  {
   "cell_type": "markdown",
   "id": "757a20a2-894b-415e-aabc-d933a1fc9fd5",
   "metadata": {},
   "source": [
    "Ans: 1. Multiprocessing uses two or more CPUs to increase computing power. Whereas multithreading uses a single process\n",
    "        with multiple code segments to increase computing power.\n",
    "     2. Multiprocessing is used to create a more reliable system. Whereas multithreading is used to create threads that\n",
    "        run parallel to each other.\n",
    "     3. Multiprocessing requires a significant amount of time and specific resources to create. Whereas multithreading           is quick to create and requires few resources.\n",
    "     4. Multiprocessing executes many process simultaneously. Whereas multithreading executes many threads                       simultaneously."
   ]
  },
  {
   "cell_type": "markdown",
   "id": "cc459cc7-916d-4953-af7d-9794c6da6963",
   "metadata": {},
   "source": [
    "Q3. Write a python code to create a process using the multiprocessing module?"
   ]
  },
  {
   "cell_type": "code",
   "execution_count": 10,
   "id": "80b60a3f-4c2f-456a-b23b-fa157c4d3c90",
   "metadata": {},
   "outputs": [
    {
     "name": "stdout",
     "output_type": "stream",
     "text": [
      "Cube of 10: 1000\n"
     ]
    }
   ],
   "source": [
    "#Ans:\n",
    "import multiprocessing\n",
    "def cube(x):\n",
    "    print(f\"Cube of {x}: {x**3}\")\n",
    "process1=multiprocessing.Process(target=cube,args=(10,))\n",
    "process1.start()\n",
    "process1.join()"
   ]
  },
  {
   "cell_type": "markdown",
   "id": "5728db42-1237-4b01-afe3-b5bb579e0ded",
   "metadata": {},
   "source": [
    "Q4. What is a multiprocessing pool in python? Why is it used?"
   ]
  },
  {
   "cell_type": "markdown",
   "id": "a9f598f2-05fb-49d8-add5-24b2a347455e",
   "metadata": {},
   "source": [
    "Ans: Python multiprocessing pool is a class that can be used for parallel execution of a function across multiple input\n",
    "     values, distributing the input data across processes (data parallelism).\n",
    "     The pool class in multiprocessing can handle an enormous number of processes. It allows we to run multiple jobs\n",
    "     per process (due to its ability to queue the jobs).That's why it is useful."
   ]
  },
  {
   "cell_type": "markdown",
   "id": "ae9a26b7-ad8e-4662-9324-260b8c51c448",
   "metadata": {},
   "source": [
    "Q5. How can we create a pool of workers processes in python using the multiprocessing module?"
   ]
  },
  {
   "cell_type": "markdown",
   "id": "30c7f65c-22cf-4063-bd7a-d4fc5c9b225f",
   "metadata": {},
   "source": [
    "Ans: 1. Import multiprocessing\n",
    "     2. Create a pool object by using:\n",
    "        p=multiprocessing.pool()\n",
    "     3. There are few arguments for gaining more control over offloading of task. These are\n",
    "        Processes: specify the number of worker processes.\n",
    "        maxtasksperchild: specify the maximum number of tasks to be assigned per child.\n",
    "     All the processes in a pool can be made to perform some initialization using these arguments:\n",
    "     initializer: specify an initialization function for worker processes.\n",
    "     initargs: arguments to be passed to initializer.\n",
    "     Now, in order to perform some tasks, we have to map it to some function.\n",
    "     Once all the worker processes finish their task, a list is returned with the final result. "
   ]
  },
  {
   "cell_type": "markdown",
   "id": "c2fc9b93-2261-4380-b0ae-30164278db04",
   "metadata": {},
   "source": [
    "Q6. Write a python program to create 4 processes, each processes should print a different number using the multiprocessing\n",
    "    module in python."
   ]
  },
  {
   "cell_type": "code",
   "execution_count": 3,
   "id": "34f735e4-1122-453f-834b-facf075ef5f3",
   "metadata": {},
   "outputs": [
    {
     "name": "stdout",
     "output_type": "stream",
     "text": [
      "25\n",
      "100\n",
      "225\n",
      "400\n"
     ]
    }
   ],
   "source": [
    "#Ans:\n",
    "import multiprocessing\n",
    "def square(x):\n",
    "    print(x**2)\n",
    "process1=multiprocessing.Process(target=square,args=(5,)) \n",
    "process2=multiprocessing.Process(target=square,args=(10,))    \n",
    "process3=multiprocessing.Process(target=square,args=(15,))    \n",
    "process4=multiprocessing.Process(target=square,args=(20,))\n",
    "process1.start()\n",
    "process1.join()\n",
    "process2.start()\n",
    "process2.join()\n",
    "process3.start()\n",
    "process3.join()\n",
    "process4.start()\n",
    "process4.join()"
   ]
  },
  {
   "cell_type": "code",
   "execution_count": null,
   "id": "916b91ae-c15b-4834-89cf-174fb6aabe46",
   "metadata": {},
   "outputs": [],
   "source": []
  }
 ],
 "metadata": {
  "kernelspec": {
   "display_name": "Python 3 (ipykernel)",
   "language": "python",
   "name": "python3"
  },
  "language_info": {
   "codemirror_mode": {
    "name": "ipython",
    "version": 3
   },
   "file_extension": ".py",
   "mimetype": "text/x-python",
   "name": "python",
   "nbconvert_exporter": "python",
   "pygments_lexer": "ipython3",
   "version": "3.10.8"
  }
 },
 "nbformat": 4,
 "nbformat_minor": 5
}
